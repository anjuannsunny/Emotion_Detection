{
 "cells": [
  {
   "cell_type": "code",
   "execution_count": 29,
   "metadata": {},
   "outputs": [
    {
     "name": "stdout",
     "output_type": "stream",
     "text": [
      "Found 22968 images belonging to 7 classes.\n",
      "Found 1432 images belonging to 7 classes.\n",
      "Epoch 1/10\n"
     ]
    }
   ],
   "source": [
    "import numpy as np\n",
    "import cv2\n",
    "import tensorflow as tf\n",
    "from tensorflow.keras.models import Sequential\n",
    "from tensorflow.keras.layers import Conv2D, MaxPooling2D, Flatten, Dense, Dropout, Input\n",
    "from tensorflow.keras.preprocessing.image import ImageDataGenerator\n",
    "\n",
    "from tensorflow.keras.applications import VGG16\n",
    "\n",
    "def create_cnn_model(input_shape):\n",
    "    base_model = VGG16(include_top=False, input_shape=input_shape, weights='imagenet')\n",
    "    base_model.trainable = False  # Freeze the base model layers\n",
    "\n",
    "    model = Sequential([\n",
    "        base_model,\n",
    "        Flatten(),\n",
    "        Dense(128, activation='relu'),\n",
    "        Dropout(0.5),\n",
    "        Dense(len(emotion_labels), activation='softmax')\n",
    "    ])\n",
    "    model.compile(optimizer='adam', loss='categorical_crossentropy', metrics=['accuracy'])\n",
    "    return model\n",
    "\n",
    "\n",
    "\n",
    "\n",
    "# Define the CNN model\n",
    "def create_cnn_model(input_shape):\n",
    "    model = Sequential([\n",
    "        Input(shape=input_shape),  # Use Input layer for input shape\n",
    "        Conv2D(32, (3, 3), activation='relu'),\n",
    "        MaxPooling2D(pool_size=(2, 2)),\n",
    "        Conv2D(64, (3, 3), activation='relu'),\n",
    "        MaxPooling2D(pool_size=(2, 2)),\n",
    "        Conv2D(128, (3, 3), activation='relu'),\n",
    "        MaxPooling2D(pool_size=(2, 2)),\n",
    "        Flatten(),\n",
    "        Dense(128, activation='relu'),\n",
    "        Dropout(0.5),\n",
    "        Dense(len(emotion_labels), activation='softmax')\n",
    "    ])\n",
    "    model.compile(optimizer='adam', loss='categorical_crossentropy', metrics=['accuracy'])\n",
    "    return model\n",
    "\n",
    "# Load and preprocess the dataset\n",
    "def load_data():\n",
    "    # Assuming you have a dataset directory with subfolders for each emotion\n",
    "    data_gen = ImageDataGenerator(rescale=1./255, validation_split=0.2)\n",
    "    \n",
    "    train_data = data_gen.flow_from_directory('dataset/train',\n",
    "                                              target_size=(48, 48),\n",
    "                                              color_mode='grayscale',\n",
    "                                              class_mode='categorical',\n",
    "                                              batch_size=32,\n",
    "                                              subset='training')\n",
    "    \n",
    "    val_data = data_gen.flow_from_directory('dataset/test',\n",
    "                                            target_size=(48, 48),\n",
    "                                            color_mode='grayscale',\n",
    "                                            class_mode='categorical',\n",
    "                                            batch_size=32,\n",
    "                                            subset='validation')\n",
    "    \n",
    "    return train_data, val_data\n",
    "\n",
    "# Train the model\n",
    "train_data, val_data = load_data()\n",
    "input_shape = (48, 48, 1)\n",
    "model = create_cnn_model(input_shape)\n",
    "model.fit(train_data, epochs=10, validation_data=val_data)\n",
    "\n",
    "# Save the trained model\n",
    "model.save('emotion_cnn_model.keras')\n"
   ]
  }
 ],
 "metadata": {
  "kernelspec": {
   "display_name": "Python 3",
   "language": "python",
   "name": "python3"
  },
  "language_info": {
   "codemirror_mode": {
    "name": "ipython",
    "version": 3
   },
   "file_extension": ".py",
   "mimetype": "text/x-python",
   "name": "python",
   "nbconvert_exporter": "python",
   "pygments_lexer": "ipython3",
   "version": "3.11.5"
  }
 },
 "nbformat": 4,
 "nbformat_minor": 2
}
